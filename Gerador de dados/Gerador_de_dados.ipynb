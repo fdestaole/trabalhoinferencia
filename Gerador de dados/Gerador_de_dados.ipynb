{
 "cells": [
  {
   "cell_type": "code",
   "execution_count": 5,
   "id": "b41e7b6d",
   "metadata": {},
   "outputs": [],
   "source": [
    "import numpy as np\n",
    "import pandas as pd"
   ]
  },
  {
   "cell_type": "code",
   "execution_count": 12,
   "id": "dce63656",
   "metadata": {},
   "outputs": [],
   "source": [
    "media = 5\n",
    "desvio_padrao = 1\n",
    "quantidade = 200\n",
    "\n",
    "dados = np.random.normal(media,desvio_padrao,quantidade)"
   ]
  },
  {
   "cell_type": "code",
   "execution_count": 13,
   "id": "66b6485a",
   "metadata": {},
   "outputs": [
    {
     "data": {
      "text/html": [
       "<div>\n",
       "<style scoped>\n",
       "    .dataframe tbody tr th:only-of-type {\n",
       "        vertical-align: middle;\n",
       "    }\n",
       "\n",
       "    .dataframe tbody tr th {\n",
       "        vertical-align: top;\n",
       "    }\n",
       "\n",
       "    .dataframe thead th {\n",
       "        text-align: right;\n",
       "    }\n",
       "</style>\n",
       "<table border=\"1\" class=\"dataframe\">\n",
       "  <thead>\n",
       "    <tr style=\"text-align: right;\">\n",
       "      <th></th>\n",
       "      <th>0</th>\n",
       "    </tr>\n",
       "  </thead>\n",
       "  <tbody>\n",
       "    <tr>\n",
       "      <th>0</th>\n",
       "      <td>5.999273</td>\n",
       "    </tr>\n",
       "    <tr>\n",
       "      <th>1</th>\n",
       "      <td>4.244570</td>\n",
       "    </tr>\n",
       "    <tr>\n",
       "      <th>2</th>\n",
       "      <td>5.827515</td>\n",
       "    </tr>\n",
       "    <tr>\n",
       "      <th>3</th>\n",
       "      <td>6.725291</td>\n",
       "    </tr>\n",
       "    <tr>\n",
       "      <th>4</th>\n",
       "      <td>5.863694</td>\n",
       "    </tr>\n",
       "    <tr>\n",
       "      <th>...</th>\n",
       "      <td>...</td>\n",
       "    </tr>\n",
       "    <tr>\n",
       "      <th>195</th>\n",
       "      <td>4.364952</td>\n",
       "    </tr>\n",
       "    <tr>\n",
       "      <th>196</th>\n",
       "      <td>4.731327</td>\n",
       "    </tr>\n",
       "    <tr>\n",
       "      <th>197</th>\n",
       "      <td>4.463536</td>\n",
       "    </tr>\n",
       "    <tr>\n",
       "      <th>198</th>\n",
       "      <td>5.168446</td>\n",
       "    </tr>\n",
       "    <tr>\n",
       "      <th>199</th>\n",
       "      <td>5.971327</td>\n",
       "    </tr>\n",
       "  </tbody>\n",
       "</table>\n",
       "<p>200 rows × 1 columns</p>\n",
       "</div>"
      ],
      "text/plain": [
       "            0\n",
       "0    5.999273\n",
       "1    4.244570\n",
       "2    5.827515\n",
       "3    6.725291\n",
       "4    5.863694\n",
       "..        ...\n",
       "195  4.364952\n",
       "196  4.731327\n",
       "197  4.463536\n",
       "198  5.168446\n",
       "199  5.971327\n",
       "\n",
       "[200 rows x 1 columns]"
      ]
     },
     "execution_count": 13,
     "metadata": {},
     "output_type": "execute_result"
    }
   ],
   "source": [
    "data = pd.DataFrame(dados) #valor de abertura\n",
    "\n",
    "data"
   ]
  },
  {
   "cell_type": "code",
   "execution_count": 38,
   "id": "c0bbbbaf",
   "metadata": {},
   "outputs": [],
   "source": [
    "clientes = ['Cliente'] * quantidade\n",
    "for i in range(quantidade):\n",
    "    clientes[i] = clientes[i] + \" \" + str(i+1)"
   ]
  },
  {
   "cell_type": "code",
   "execution_count": 39,
   "id": "799f4cf6",
   "metadata": {},
   "outputs": [],
   "source": [
    "data.index = clientes"
   ]
  },
  {
   "cell_type": "code",
   "execution_count": 40,
   "id": "f6e56692",
   "metadata": {},
   "outputs": [],
   "source": [
    "data.columns = ['Tempo de demora']"
   ]
  },
  {
   "cell_type": "code",
   "execution_count": 41,
   "id": "2e0dabca",
   "metadata": {},
   "outputs": [
    {
     "data": {
      "text/html": [
       "<div>\n",
       "<style scoped>\n",
       "    .dataframe tbody tr th:only-of-type {\n",
       "        vertical-align: middle;\n",
       "    }\n",
       "\n",
       "    .dataframe tbody tr th {\n",
       "        vertical-align: top;\n",
       "    }\n",
       "\n",
       "    .dataframe thead th {\n",
       "        text-align: right;\n",
       "    }\n",
       "</style>\n",
       "<table border=\"1\" class=\"dataframe\">\n",
       "  <thead>\n",
       "    <tr style=\"text-align: right;\">\n",
       "      <th></th>\n",
       "      <th>Tempo de demora</th>\n",
       "    </tr>\n",
       "  </thead>\n",
       "  <tbody>\n",
       "    <tr>\n",
       "      <th>Cliente 1</th>\n",
       "      <td>5.999273</td>\n",
       "    </tr>\n",
       "    <tr>\n",
       "      <th>Cliente 2</th>\n",
       "      <td>4.244570</td>\n",
       "    </tr>\n",
       "    <tr>\n",
       "      <th>Cliente 3</th>\n",
       "      <td>5.827515</td>\n",
       "    </tr>\n",
       "    <tr>\n",
       "      <th>Cliente 4</th>\n",
       "      <td>6.725291</td>\n",
       "    </tr>\n",
       "    <tr>\n",
       "      <th>Cliente 5</th>\n",
       "      <td>5.863694</td>\n",
       "    </tr>\n",
       "    <tr>\n",
       "      <th>...</th>\n",
       "      <td>...</td>\n",
       "    </tr>\n",
       "    <tr>\n",
       "      <th>Cliente 196</th>\n",
       "      <td>4.364952</td>\n",
       "    </tr>\n",
       "    <tr>\n",
       "      <th>Cliente 197</th>\n",
       "      <td>4.731327</td>\n",
       "    </tr>\n",
       "    <tr>\n",
       "      <th>Cliente 198</th>\n",
       "      <td>4.463536</td>\n",
       "    </tr>\n",
       "    <tr>\n",
       "      <th>Cliente 199</th>\n",
       "      <td>5.168446</td>\n",
       "    </tr>\n",
       "    <tr>\n",
       "      <th>Cliente 200</th>\n",
       "      <td>5.971327</td>\n",
       "    </tr>\n",
       "  </tbody>\n",
       "</table>\n",
       "<p>200 rows × 1 columns</p>\n",
       "</div>"
      ],
      "text/plain": [
       "             Tempo de demora\n",
       "Cliente 1           5.999273\n",
       "Cliente 2           4.244570\n",
       "Cliente 3           5.827515\n",
       "Cliente 4           6.725291\n",
       "Cliente 5           5.863694\n",
       "...                      ...\n",
       "Cliente 196         4.364952\n",
       "Cliente 197         4.731327\n",
       "Cliente 198         4.463536\n",
       "Cliente 199         5.168446\n",
       "Cliente 200         5.971327\n",
       "\n",
       "[200 rows x 1 columns]"
      ]
     },
     "execution_count": 41,
     "metadata": {},
     "output_type": "execute_result"
    }
   ],
   "source": [
    "data"
   ]
  },
  {
   "cell_type": "code",
   "execution_count": 42,
   "id": "f89e7ce2",
   "metadata": {},
   "outputs": [],
   "source": [
    "data.to_csv(\"dados_teste.csv\")"
   ]
  },
  {
   "cell_type": "code",
   "execution_count": null,
   "id": "698a618d",
   "metadata": {},
   "outputs": [],
   "source": []
  }
 ],
 "metadata": {
  "kernelspec": {
   "display_name": "Python 3 (ipykernel)",
   "language": "python",
   "name": "python3"
  },
  "language_info": {
   "codemirror_mode": {
    "name": "ipython",
    "version": 3
   },
   "file_extension": ".py",
   "mimetype": "text/x-python",
   "name": "python",
   "nbconvert_exporter": "python",
   "pygments_lexer": "ipython3",
   "version": "3.11.5"
  }
 },
 "nbformat": 4,
 "nbformat_minor": 5
}
