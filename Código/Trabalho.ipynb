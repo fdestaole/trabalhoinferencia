{
 "cells": [
  {
   "cell_type": "markdown",
   "id": "83200afc",
   "metadata": {},
   "source": [
    "# <font color='blue'> Teste de Hipótese para a média com variância conhecida\n"
   ]
  },
  {
   "cell_type": "markdown",
   "id": "f59ef9e3",
   "metadata": {},
   "source": [
    "## Alunos:\n",
    "###              João Pedro Farjoun Silva, 13731319\n",
    "###              Felipe Destaole , 13686768\n",
    "----\n"
   ]
  },
  {
   "cell_type": "markdown",
   "id": "288005e3",
   "metadata": {},
   "source": [
    "### Iremos fazer nesse trabalho um teste de hipótese referente à seguinte situação hipotética:\n",
    "\n",
    "### <font color='red'> Introdução\n",
    "\n",
    "### Na movimentada cidade de Techville, a empresa de telecomunicações ConnectCo operava um dos maiores call centers da região. A eficiência do atendimento ao cliente sempre foi um dos principais focos da empresa, pois sabiam que um bom serviço de atendimento era crucial para manter a satisfação e a lealdade dos clientes.\n",
    "\n",
    "### <font color='red'> O Desafio \n",
    "### Em um dia como outro qualquer, Carla, a gerente do call center, recebeu um relatório preocupante. A média de tempo de atendimento ao cliente estava aumentando, chegando a 5,7 minutos por chamada, enquanto a meta estabelecida era de 5 minutos. Sabendo que a variância do tempo de atendimento era de 4 minutos, Carla decidiu que era hora de investigar mais a fundo e tomar medidas corretivas.\n",
    "\n",
    "### <font color='red'> A Hipótese\n",
    "### Após um mês, Carla convocou uma reunião com sua equipe de analistas de dados. Eles decidiram testar a hipótese de que o tempo médio de atendimento desse novo mês seria menor que o anterior. A equipe formulou as seguintes hipóteses:"
   ]
  },
  {
   "cell_type": "markdown",
   "id": "417baeee",
   "metadata": {},
   "source": [
    "$X_i \\sim N(\\mu , \\sigma^2)$ com $\\sigma^2 conhecido = 2^2 $\n",
    "\n",
    "$X_1, \\ldots, X_n$ amostra aleatória\n",
    "\n",
    "$H_0: \\mu \\ge 5.7 $ \n",
    "\n",
    "Contra\n",
    "\n",
    "$H_1: \\mu < 5.7$\n",
    "\n",
    "$RC = \\{\\bar{x} \\in \\mathbb{R}; \\bar{x} \\ge x_c\\}$"
   ]
  },
  {
   "cell_type": "code",
   "execution_count": 26,
   "id": "20494fc4",
   "metadata": {},
   "outputs": [],
   "source": [
    "from scipy.stats import norm\n",
    "import matplotlib.pyplot as plt\n",
    "import numpy as np\n",
    "import pandas as pd"
   ]
  },
  {
   "cell_type": "code",
   "execution_count": 27,
   "id": "75896368",
   "metadata": {},
   "outputs": [
    {
     "data": {
      "text/html": [
       "<div>\n",
       "<style scoped>\n",
       "    .dataframe tbody tr th:only-of-type {\n",
       "        vertical-align: middle;\n",
       "    }\n",
       "\n",
       "    .dataframe tbody tr th {\n",
       "        vertical-align: top;\n",
       "    }\n",
       "\n",
       "    .dataframe thead th {\n",
       "        text-align: right;\n",
       "    }\n",
       "</style>\n",
       "<table border=\"1\" class=\"dataframe\">\n",
       "  <thead>\n",
       "    <tr style=\"text-align: right;\">\n",
       "      <th></th>\n",
       "      <th>Unnamed: 0</th>\n",
       "      <th>Tempo de demora</th>\n",
       "    </tr>\n",
       "  </thead>\n",
       "  <tbody>\n",
       "    <tr>\n",
       "      <th>0</th>\n",
       "      <td>Cliente 1</td>\n",
       "      <td>4.231818</td>\n",
       "    </tr>\n",
       "    <tr>\n",
       "      <th>1</th>\n",
       "      <td>Cliente 2</td>\n",
       "      <td>2.394676</td>\n",
       "    </tr>\n",
       "    <tr>\n",
       "      <th>2</th>\n",
       "      <td>Cliente 3</td>\n",
       "      <td>6.298389</td>\n",
       "    </tr>\n",
       "    <tr>\n",
       "      <th>3</th>\n",
       "      <td>Cliente 4</td>\n",
       "      <td>10.577544</td>\n",
       "    </tr>\n",
       "    <tr>\n",
       "      <th>4</th>\n",
       "      <td>Cliente 5</td>\n",
       "      <td>5.882483</td>\n",
       "    </tr>\n",
       "    <tr>\n",
       "      <th>...</th>\n",
       "      <td>...</td>\n",
       "      <td>...</td>\n",
       "    </tr>\n",
       "    <tr>\n",
       "      <th>195</th>\n",
       "      <td>Cliente 196</td>\n",
       "      <td>6.780669</td>\n",
       "    </tr>\n",
       "    <tr>\n",
       "      <th>196</th>\n",
       "      <td>Cliente 197</td>\n",
       "      <td>7.519868</td>\n",
       "    </tr>\n",
       "    <tr>\n",
       "      <th>197</th>\n",
       "      <td>Cliente 198</td>\n",
       "      <td>5.869833</td>\n",
       "    </tr>\n",
       "    <tr>\n",
       "      <th>198</th>\n",
       "      <td>Cliente 199</td>\n",
       "      <td>6.268618</td>\n",
       "    </tr>\n",
       "    <tr>\n",
       "      <th>199</th>\n",
       "      <td>Cliente 200</td>\n",
       "      <td>7.530271</td>\n",
       "    </tr>\n",
       "  </tbody>\n",
       "</table>\n",
       "<p>200 rows × 2 columns</p>\n",
       "</div>"
      ],
      "text/plain": [
       "      Unnamed: 0  Tempo de demora\n",
       "0      Cliente 1         4.231818\n",
       "1      Cliente 2         2.394676\n",
       "2      Cliente 3         6.298389\n",
       "3      Cliente 4        10.577544\n",
       "4      Cliente 5         5.882483\n",
       "..           ...              ...\n",
       "195  Cliente 196         6.780669\n",
       "196  Cliente 197         7.519868\n",
       "197  Cliente 198         5.869833\n",
       "198  Cliente 199         6.268618\n",
       "199  Cliente 200         7.530271\n",
       "\n",
       "[200 rows x 2 columns]"
      ]
     },
     "execution_count": 27,
     "metadata": {},
     "output_type": "execute_result"
    }
   ],
   "source": [
    "df1 = pd.read_csv('dados_teste.csv')\n",
    "df1"
   ]
  },
  {
   "cell_type": "code",
   "execution_count": 64,
   "id": "8d45214d",
   "metadata": {},
   "outputs": [
    {
     "data": {
      "text/plain": [
       "0     8.501377\n",
       "1     3.512911\n",
       "2     5.651510\n",
       "3     2.598634\n",
       "4     5.853080\n",
       "        ...   \n",
       "72    7.046232\n",
       "73    3.088308\n",
       "74    5.093845\n",
       "75    5.689721\n",
       "76    5.265214\n",
       "Name: Tempo de demora, Length: 77, dtype: float64"
      ]
     },
     "execution_count": 64,
     "metadata": {},
     "output_type": "execute_result"
    }
   ],
   "source": [
    "df2 = pd.read_csv('dados_teste2.csv')\n",
    "df3 = df2['Tempo de demora'][:77]\n",
    "df3"
   ]
  },
  {
   "cell_type": "code",
   "execution_count": 65,
   "id": "a5ce2b18",
   "metadata": {},
   "outputs": [
    {
     "name": "stdout",
     "output_type": "stream",
     "text": [
      "RC = {xbarra >= 5.52 }\n"
     ]
    }
   ],
   "source": [
    "# Dados do exercício\n",
    "\n",
    "mu0 = sum(df1['Tempo de demora'])/len(df1['Tempo de demora']) #media do mes anterior\n",
    "sigma = 2\n",
    "n=len(df1['Tempo de demora'])\n",
    "\n",
    "xc = norm.ppf(0.05)*(sigma/np.sqrt(n)) + mu0\n",
    "\n",
    "print('RC = {xbarra >=', np.round(xc,2), '}')"
   ]
  },
  {
   "cell_type": "code",
   "execution_count": 66,
   "id": "be34e849",
   "metadata": {},
   "outputs": [
    {
     "name": "stdout",
     "output_type": "stream",
     "text": [
      "5.075167535853941\n",
      "Rejeito H0\n"
     ]
    }
   ],
   "source": [
    "xbarra = sum(df3)/len(df3)\n",
    "\n",
    "print(xbarra)\n",
    "\n",
    "if xbarra < xc: print ('Rejeito H0')\n",
    "else: print('Não rejeito H0')"
   ]
  },
  {
   "cell_type": "code",
   "execution_count": 67,
   "id": "3dbeb6e4",
   "metadata": {},
   "outputs": [
    {
     "name": "stdout",
     "output_type": "stream",
     "text": [
      "valor-p 1e-06\n"
     ]
    }
   ],
   "source": [
    "# Nível descritivo do teste\n",
    "\n",
    "z_obs = (xbarra - mu0)/(sigma/np.sqrt(n))\n",
    "\n",
    "print('valor-p', np.round(norm.cdf(z_obs),6))"
   ]
  },
  {
   "cell_type": "markdown",
   "id": "4e3d6dda",
   "metadata": {},
   "source": [
    "### Dessa maneira, vemos que a média de atendimento foi menor que a do mês anterior. Com isso Carla foi elogiada por seu chefe e foi promovida."
   ]
  }
 ],
 "metadata": {
  "kernelspec": {
   "display_name": "Python 3 (ipykernel)",
   "language": "python",
   "name": "python3"
  },
  "language_info": {
   "codemirror_mode": {
    "name": "ipython",
    "version": 3
   },
   "file_extension": ".py",
   "mimetype": "text/x-python",
   "name": "python",
   "nbconvert_exporter": "python",
   "pygments_lexer": "ipython3",
   "version": "3.11.5"
  }
 },
 "nbformat": 4,
 "nbformat_minor": 5
}
