{
 "cells": [
  {
   "cell_type": "markdown",
   "id": "83200afc",
   "metadata": {},
   "source": [
    "# <font color='blue'> Teste de Hipótese para a média com variância conhecida\n"
   ]
  },
  {
   "cell_type": "markdown",
   "id": "f59ef9e3",
   "metadata": {},
   "source": [
    "## Alunos:\n",
    "###              João Pedro Farjoun Silva, 13731319\n",
    "###              Felipe Destaole , 13686768\n",
    "###              Bruno Dalcantoni Cozac, 13686323\n",
    "----\n"
   ]
  },
  {
   "cell_type": "markdown",
   "id": "288005e3",
   "metadata": {},
   "source": [
    "### Iremos fazer nesse trabalho um teste de hipótese referente à seguinte situação hipotética:\n",
    "\n",
    "### <font color='red'> Introdução\n",
    "\n",
    "### Na movimentada cidade de Techville, a empresa de telecomunicações ConnectCo operava um dos maiores call centers da região. A eficiência do atendimento ao cliente sempre foi um dos principais focos da empresa, pois sabiam que um bom serviço de atendimento era crucial para manter a satisfação e a lealdade dos clientes.\n",
    "\n",
    "### <font color='red'> O Desafio \n",
    "### Em um dia como outro qualquer, Carla, a gerente do call center, recebeu um relatório preocupante. A média de tempo de atendimento ao cliente estava aumentando, chegando a 8 minutos por chamada, enquanto a meta estabelecida era de 5.3 minutos. Sabendo que a variância do tempo de atendimento era de 4 minutos, Carla decidiu que era hora de investigar mais a fundo e tomar medidas corretivas.\n",
    "\n",
    "### <font color='red'> A Hipótese\n",
    "### Após um mês, Carla convocou uma reunião com sua equipe de analistas de dados. Eles decidiram testar a hipótese de que o tempo médio de atendimento desse novo mês seria menor que o anterior. A equipe formulou as seguintes hipóteses:"
   ]
  },
  {
   "cell_type": "markdown",
   "id": "417baeee",
   "metadata": {},
   "source": [
    "$X_i \\sim N(\\mu , \\sigma^2)$ com $\\sigma^2 conhecido = 2^2 $\n",
    "\n",
    "$X_1, \\ldots, X_n$ amostra aleatória\n",
    "\n",
    "$H_0: \\mu = 5.3 $ \n",
    "\n",
    "Contra\n",
    "\n",
    "$H_1: \\mu < 5.3 $\n",
    "\n",
    "$RC = \\{\\bar{x} \\in \\mathbb{R}; \\bar{x} < x_c\\}$"
   ]
  },
  {
   "cell_type": "code",
   "execution_count": 2,
   "id": "20494fc4",
   "metadata": {},
   "outputs": [],
   "source": [
    "from scipy.stats import norm\n",
    "import matplotlib.pyplot as plt\n",
    "import numpy as np\n",
    "import pandas as pd"
   ]
  },
  {
   "cell_type": "code",
   "execution_count": 4,
   "id": "8d45214d",
   "metadata": {},
   "outputs": [
    {
     "name": "stdout",
     "output_type": "stream",
     "text": [
      "   Momento  Tempo de demora\n",
      "0   2° mes         3.042326\n",
      "1   2° mes         3.556875\n",
      "2   2° mes         7.300794\n",
      "3   2° mes         6.173816\n",
      "4   2° mes         6.367504\n",
      "5   2° mes         3.569123\n",
      "6   2° mes         4.466710\n",
      "7   2° mes         3.552829\n",
      "8   2° mes         1.638396\n",
      "9   2° mes         7.622347\n",
      "10  2° mes         3.284055\n",
      "11  2° mes         2.005762\n",
      "12  2° mes         5.867717\n",
      "13  2° mes         3.946920\n",
      "14  2° mes         4.914028\n",
      "15  2° mes         6.105475\n",
      "16  2° mes         1.293920\n",
      "17  2° mes         8.245623\n",
      "18  2° mes         4.234163\n",
      "19  2° mes         3.691950\n",
      "20  2° mes         5.601087\n",
      "21  2° mes         4.797230\n",
      "22  2° mes         2.278599\n",
      "23  2° mes         0.373298\n",
      "24  2° mes         6.095337\n",
      "25  2° mes         7.682439\n",
      "26  2° mes         6.396403\n",
      "27  2° mes         5.277725\n",
      "28  2° mes         6.132682\n",
      "29  2° mes         3.286253\n",
      "30  2° mes         5.338221\n",
      "31  2° mes         5.423398\n",
      "32  2° mes         7.913551\n",
      "33  2° mes         5.546019\n",
      "34  2° mes         6.908294\n",
      "35  2° mes         5.243670\n",
      "36  2° mes         6.076583\n",
      "37  2° mes         2.268973\n",
      "38  2° mes         3.828861\n",
      "39  2° mes         2.591187\n",
      "40  2° mes         6.547298\n",
      "41  2° mes         5.545529\n",
      "42  2° mes         1.587145\n",
      "43  2° mes         9.257042\n",
      "44  2° mes         4.826076\n",
      "45  2° mes         9.539329\n",
      "46  2° mes         4.542700\n",
      "47  2° mes         4.568914\n",
      "48  2° mes         3.535999\n",
      "49  2° mes         4.687861\n"
     ]
    }
   ],
   "source": [
    "df2 = pd.read_csv('dados_teste2.csv')\n",
    "print(df2)"
   ]
  },
  {
   "cell_type": "code",
   "execution_count": 29,
   "id": "a5ce2b18",
   "metadata": {},
   "outputs": [
    {
     "name": "stdout",
     "output_type": "stream",
     "text": [
      "RC = {xbarra < 4.83 }\n"
     ]
    }
   ],
   "source": [
    "# Dados do exercício\n",
    "\n",
    "mu0 = 5.3\n",
    "sigma = 2\n",
    "n=len(df2['Tempo de demora']) \n",
    "\n",
    "xc = norm.ppf(0.05)*(sigma/np.sqrt(n)) + mu0\n",
    "\n",
    "print('RC = {xbarra <', np.round(xc,2), '}')"
   ]
  },
  {
   "cell_type": "code",
   "execution_count": 30,
   "id": "be34e849",
   "metadata": {},
   "outputs": [
    {
     "name": "stdout",
     "output_type": "stream",
     "text": [
      "4.891560687548601\n",
      "Não rejeito H0\n"
     ]
    }
   ],
   "source": [
    "xbarra = sum(df2['Tempo de demora'])/len(df2['Tempo de demora'])\n",
    "\n",
    "print(xbarra)\n",
    "\n",
    "if xbarra < xc: \n",
    "    print ('Rejeito H0')\n",
    "else: \n",
    "    print('Não rejeito H0')"
   ]
  },
  {
   "cell_type": "markdown",
   "id": "1f544be0",
   "metadata": {},
   "source": [
    "### Como a média dos dados do segundo mês não está na região crítica, isto é, ela não é menor que 4.83, então temos evidências amostrais suficientes de que essa média é igual à meta de 5.3. Logo, não rejeitamos a hipótese de H0."
   ]
  },
  {
   "cell_type": "code",
   "execution_count": 31,
   "id": "3dbeb6e4",
   "metadata": {},
   "outputs": [
    {
     "name": "stdout",
     "output_type": "stream",
     "text": [
      "valor-p 0.074362\n"
     ]
    }
   ],
   "source": [
    "# Nível descritivo do teste\n",
    "\n",
    "z_obs = (xbarra - mu0)/(sigma/np.sqrt(n))\n",
    "\n",
    "print('valor-p', np.round(norm.cdf(z_obs),6))"
   ]
  },
  {
   "cell_type": "code",
   "execution_count": 32,
   "id": "9d2bc7f4",
   "metadata": {},
   "outputs": [],
   "source": [
    "import seaborn as sns"
   ]
  },
  {
   "cell_type": "code",
   "execution_count": 38,
   "id": "548424fd",
   "metadata": {},
   "outputs": [
    {
     "data": {
      "image/png": "[encoded data removed]",
      "text/plain": [
       "<Figure size 1100x600 with 1 Axes>"
      ]
     },
     "metadata": {},
     "output_type": "display_data"
    }
   ],
   "source": [
    "plt.figure(figsize =(11, 6))\n",
    "\n",
    "ax = sns.boxplot(data=df2,x='Momento',y='Tempo de demora')\n",
    "\n",
    "ax = sns.stripplot(data=df2,x='Momento',y='Tempo de demora',color='black')\n",
    "\n",
    "# Adicionando Título ao gráfico\n",
    "plt.title(\"Boxplot da distribuição dos dados\", loc=\"center\", fontsize=18)\n",
    "plt.xlabel(\"Momento\")\n",
    "plt.ylabel(\"Tempo de demora\")\n",
    "\n",
    "plt.show()"
   ]
  },
  {
   "cell_type": "code",
   "execution_count": 39,
   "id": "8cf3c4f7",
   "metadata": {},
   "outputs": [
    {
     "data": {
      "image/png": "[encoded data removed]",
      "text/plain": [
       "<Figure size 1100x600 with 1 Axes>"
      ]
     },
     "metadata": {},
     "output_type": "display_data"
    }
   ],
   "source": [
    "plt.figure(figsize =(11, 6))\n",
    "\n",
    "ax = sns.boxplot(data=df2,x='Momento',y='Tempo de demora')\n",
    "\n",
    "ax = plt.axhline(y=mu0, color='r', linestyle='--', label=f'Mean: {mu0:.2f}')\n",
    "\n",
    "# Adicionando Título ao gráfico\n",
    "plt.title(\"Boxplot com a hipótese H0\", loc=\"center\", fontsize=18)\n",
    "plt.xlabel(\"Momento\")\n",
    "plt.ylabel(\"Tempo de demora\")\n",
    "\n",
    "plt.show()"
   ]
  },
  {
   "cell_type": "markdown",
   "id": "b4a04014",
   "metadata": {},
   "source": [
    "### Como podemos ver, o resultado do teste concorda com o boxplot, já que está dentro da caixa."
   ]
  },
  {
   "cell_type": "markdown",
   "id": "265f22bf",
   "metadata": {},
   "source": [
    "### Com isso, ainda que a meta não tenha sido batida, o tempo médio de atendimento diminuiu consideravelmente de um mês para o outro."
   ]
  }
 ],
 "metadata": {
  "kernelspec": {
   "display_name": "Python 3 (ipykernel)",
   "language": "python",
   "name": "python3"
  },
  "language_info": {
   "codemirror_mode": {
    "name": "ipython",
    "version": 3
   },
   "file_extension": ".py",
   "mimetype": "text/x-python",
   "name": "python",
   "nbconvert_exporter": "python",
   "pygments_lexer": "ipython3",
   "version": "3.11.5"
  }
 },
 "nbformat": 4,
 "nbformat_minor": 5
}
