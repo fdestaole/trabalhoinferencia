{
 "cells": [
  {
   "cell_type": "markdown",
   "id": "83200afc",
   "metadata": {},
   "source": [
    "# <font color='blue'> Teste de Hipótese para a média com variância conhecida\n"
   ]
  },
  {
   "cell_type": "markdown",
   "id": "f59ef9e3",
   "metadata": {},
   "source": [
    "## Alunos:\n",
    "###              João Pedro Farjoun Silva, 13731319\n",
    "###              Felipe Destaole , 13686768\n",
    "###              Bruno Dalcantoni Cozac, 13686323\n",
    "----\n"
   ]
  },
  {
   "cell_type": "markdown",
   "id": "288005e3",
   "metadata": {},
   "source": [
    "### Iremos fazer nesse trabalho um teste de hipótese referente à seguinte situação hipotética:\n",
    "\n",
    "### <font color='red'> Introdução\n",
    "\n",
    "### Na movimentada cidade de Techville, a empresa de telecomunicações ConnectCo operava um dos maiores call centers da região. A eficiência do atendimento ao cliente sempre foi um dos principais focos da empresa, pois sabiam que um bom serviço de atendimento era crucial para manter a satisfação e a lealdade dos clientes.\n",
    "\n",
    "### <font color='red'> O Desafio \n",
    "### Em um dia como outro qualquer, Carla, a gerente do call center, recebeu um relatório preocupante. A média de tempo de atendimento ao cliente estava aumentando, chegando a 7.58 minutos por chamada, enquanto a meta estabelecida era de 5.5 minutos. Sabendo que a variância do tempo de atendimento era de 4 minutos, Carla decidiu que era hora de investigar mais a fundo e tomar medidas corretivas.\n",
    "\n",
    "### <font color='red'> A Hipótese\n",
    "### Após um mês, Carla convocou uma reunião com sua equipe de analistas de dados. Eles decidiram testar a hipótese de que o tempo médio de atendimento desse novo mês seria menor que o anterior. A equipe formulou as seguintes hipóteses:"
   ]
  },
  {
   "cell_type": "markdown",
   "id": "417baeee",
   "metadata": {},
   "source": [
    "$X_i \\sim N(\\mu , \\sigma^2)$ com $\\sigma^2 conhecido = 2^2 $\n",
    "\n",
    "$X_1, \\ldots, X_n$ amostra aleatória\n",
    "\n",
    "$H_0: \\mu > 5.5 $ \n",
    "\n",
    "Contra\n",
    "\n",
    "$H_1: \\mu \\le 5.5 $\n",
    "\n",
    "$RC = \\{\\bar{x} \\in \\mathbb{R}; \\bar{x} > x_c\\}$"
   ]
  },
  {
   "cell_type": "code",
   "execution_count": 118,
   "id": "20494fc4",
   "metadata": {},
   "outputs": [],
   "source": [
    "from scipy.stats import norm\n",
    "import matplotlib.pyplot as plt\n",
    "import numpy as np\n",
    "import pandas as pd"
   ]
  },
  {
   "cell_type": "code",
   "execution_count": 137,
   "id": "75896368",
   "metadata": {},
   "outputs": [
    {
     "name": "stdout",
     "output_type": "stream",
     "text": [
      "   Momento  Tempo de demora\n",
      "0   1° mes         6.831257\n",
      "1   1° mes         8.121615\n",
      "2   1° mes         6.617439\n",
      "3   1° mes        10.137262\n",
      "4   1° mes         6.615641\n",
      "5   1° mes         8.874774\n",
      "6   1° mes        10.505077\n",
      "7   1° mes         6.926370\n",
      "8   1° mes         8.241464\n",
      "9   1° mes         9.326736\n",
      "10  1° mes        10.352392\n",
      "11  1° mes         5.554743\n",
      "12  1° mes         4.229780\n",
      "13  1° mes         6.070089\n",
      "14  1° mes        10.773596\n",
      "15  1° mes         7.998830\n",
      "16  1° mes         7.752754\n",
      "17  1° mes         4.210888\n",
      "18  1° mes         8.964466\n",
      "19  1° mes         7.627116\n",
      "20  1° mes         8.553433\n",
      "21  1° mes        10.426322\n",
      "22  1° mes         8.685590\n",
      "23  1° mes         6.889843\n",
      "24  1° mes        12.928167\n",
      "25  1° mes         6.697277\n",
      "26  1° mes         8.582542\n",
      "27  1° mes         7.386172\n",
      "28  1° mes         6.421002\n",
      "29  1° mes         9.589601\n",
      "30  1° mes         5.251091\n",
      "31  1° mes         7.525870\n",
      "32  1° mes         8.072547\n",
      "33  1° mes         9.982251\n",
      "34  1° mes         5.467408\n",
      "35  1° mes        10.789410\n",
      "36  1° mes         6.058774\n",
      "37  1° mes         8.418222\n",
      "38  1° mes        10.792417\n",
      "39  1° mes        14.856773\n",
      "40  1° mes         6.358165\n",
      "41  1° mes         6.920320\n",
      "42  1° mes         6.010536\n",
      "43  1° mes        10.953596\n",
      "44  1° mes         7.124420\n",
      "45  1° mes         8.355988\n",
      "46  1° mes         7.767403\n",
      "47  1° mes         5.628208\n",
      "48  1° mes         9.099223\n",
      "49  1° mes         5.026419\n",
      "A média dos dados foi: 8.047025533067055\n"
     ]
    }
   ],
   "source": [
    "df1 = pd.read_csv('dados_teste.csv')\n",
    "print(df1)\n",
    "print(\"A média dos dados foi:\" ,sum(df1['Tempo de demora'])/len(df1['Tempo de demora']))"
   ]
  },
  {
   "cell_type": "code",
   "execution_count": 147,
   "id": "8d45214d",
   "metadata": {},
   "outputs": [
    {
     "name": "stdout",
     "output_type": "stream",
     "text": [
      "   Momento  Tempo de demora\n",
      "0   2° mes         3.042326\n",
      "1   2° mes         3.556875\n",
      "2   2° mes         7.300794\n",
      "3   2° mes         6.173816\n",
      "4   2° mes         6.367504\n",
      "5   2° mes         3.569123\n",
      "6   2° mes         4.466710\n",
      "7   2° mes         3.552829\n",
      "8   2° mes         1.638396\n",
      "9   2° mes         7.622347\n",
      "10  2° mes         3.284055\n",
      "11  2° mes         2.005762\n",
      "12  2° mes         5.867717\n",
      "13  2° mes         3.946920\n",
      "14  2° mes         4.914028\n",
      "15  2° mes         6.105475\n",
      "16  2° mes         1.293920\n",
      "17  2° mes         8.245623\n",
      "18  2° mes         4.234163\n",
      "19  2° mes         3.691950\n",
      "20  2° mes         5.601087\n",
      "21  2° mes         4.797230\n",
      "22  2° mes         2.278599\n",
      "23  2° mes         0.373298\n",
      "24  2° mes         6.095337\n",
      "25  2° mes         7.682439\n",
      "26  2° mes         6.396403\n",
      "27  2° mes         5.277725\n",
      "28  2° mes         6.132682\n",
      "29  2° mes         3.286253\n",
      "30  2° mes         5.338221\n",
      "31  2° mes         5.423398\n",
      "32  2° mes         7.913551\n",
      "33  2° mes         5.546019\n",
      "34  2° mes         6.908294\n",
      "35  2° mes         5.243670\n",
      "36  2° mes         6.076583\n",
      "37  2° mes         2.268973\n",
      "38  2° mes         3.828861\n",
      "39  2° mes         2.591187\n",
      "40  2° mes         6.547298\n",
      "41  2° mes         5.545529\n",
      "42  2° mes         1.587145\n",
      "43  2° mes         9.257042\n",
      "44  2° mes         4.826076\n",
      "45  2° mes         9.539329\n",
      "46  2° mes         4.542700\n",
      "47  2° mes         4.568914\n",
      "48  2° mes         3.535999\n",
      "49  2° mes         4.687861\n"
     ]
    }
   ],
   "source": [
    "df2 = pd.read_csv('dados_teste2.csv')\n",
    "print(df2)"
   ]
  },
  {
   "cell_type": "code",
   "execution_count": 148,
   "id": "a5ce2b18",
   "metadata": {},
   "outputs": [
    {
     "name": "stdout",
     "output_type": "stream",
     "text": [
      "RC = {xbarra >= 5.03 }\n"
     ]
    }
   ],
   "source": [
    "# Dados do exercício\n",
    "\n",
    "mu0 = 5.5\n",
    "sigma = 2\n",
    "n=len(df2['Tempo de demora']) \n",
    "\n",
    "xc = norm.ppf(0.05)*(sigma/np.sqrt(n)) + mu0\n",
    "\n",
    "print('RC = {xbarra >=', np.round(xc,2), '}')"
   ]
  },
  {
   "cell_type": "code",
   "execution_count": 149,
   "id": "be34e849",
   "metadata": {},
   "outputs": [
    {
     "name": "stdout",
     "output_type": "stream",
     "text": [
      "4.981060455080964\n",
      "Rejeito H0\n"
     ]
    }
   ],
   "source": [
    "xbarra = sum(df3['Tempo de demora'])/len(df3['Tempo de demora'])\n",
    "\n",
    "print(xbarra)\n",
    "\n",
    "if xbarra < xc: \n",
    "    print ('Rejeito H0')\n",
    "else: \n",
    "    print('Não rejeito H0')"
   ]
  },
  {
   "cell_type": "code",
   "execution_count": 150,
   "id": "3dbeb6e4",
   "metadata": {},
   "outputs": [
    {
     "name": "stdout",
     "output_type": "stream",
     "text": [
      "valor-p 0.033273\n"
     ]
    }
   ],
   "source": [
    "# Nível descritivo do teste\n",
    "\n",
    "z_obs = (xbarra - mu0)/(sigma/np.sqrt(n))\n",
    "\n",
    "print('valor-p', np.round(norm.cdf(z_obs),6))"
   ]
  },
  {
   "cell_type": "code",
   "execution_count": 142,
   "id": "9d2bc7f4",
   "metadata": {},
   "outputs": [],
   "source": [
    "import seaborn as sns"
   ]
  },
  {
   "cell_type": "code",
   "execution_count": 144,
   "id": "32638646",
   "metadata": {},
   "outputs": [],
   "source": [
    "dados_empilhados = pd.concat([df1, df2], ignore_index=True)"
   ]
  },
  {
   "cell_type": "code",
   "execution_count": 145,
   "id": "b7df404d",
   "metadata": {},
   "outputs": [
    {
     "name": "stderr",
     "output_type": "stream",
     "text": [
      "/home/joao/anaconda3/lib/python3.11/site-packages/seaborn/axisgrid.py:118: UserWarning: The figure layout has changed to tight\n",
      "  self._figure.tight_layout(*args, **kwargs)\n"
     ]
    },
    {
     "data": {
      "text/plain": [
       "<seaborn.axisgrid.FacetGrid at 0x71e531dacc10>"
      ]
     },
     "execution_count": 145,
     "metadata": {},
     "output_type": "execute_result"
    },
    {
     "data": {
      "image/png": "[encoded data removed]",
      "text/plain": [
       "<Figure size 599.375x500 with 1 Axes>"
      ]
     },
     "metadata": {},
     "output_type": "display_data"
    }
   ],
   "source": [
    "sns.displot(data=dados_empilhados, x='Tempo de demora', hue='Momento', kind='kde', fill=True)"
   ]
  },
  {
   "cell_type": "code",
   "execution_count": 146,
   "id": "548424fd",
   "metadata": {},
   "outputs": [
    {
     "data": {
      "text/plain": [
       "<Axes: xlabel='Momento', ylabel='Tempo de demora'>"
      ]
     },
     "execution_count": 146,
     "metadata": {},
     "output_type": "execute_result"
    },
    {
     "data": {
      "image/png": "[encoded data removed]",
      "text/plain": [
       "<Figure size 640x480 with 1 Axes>"
      ]
     },
     "metadata": {},
     "output_type": "display_data"
    }
   ],
   "source": [
    "sns.boxplot(data=dados_empilhados,x='Momento',y='Tempo de demora')"
   ]
  },
  {
   "cell_type": "markdown",
   "id": "2685d588",
   "metadata": {},
   "source": [
    "### Dessa maneira, vemos que a média de atendimento foi menor que a do mês anterior e além disso bateu a meta estabelecida. Com isso Carla foi elogiada por seu chefe e foi promovida."
   ]
  }
 ],
 "metadata": {
  "kernelspec": {
   "display_name": "Python 3 (ipykernel)",
   "language": "python",
   "name": "python3"
  },
  "language_info": {
   "codemirror_mode": {
    "name": "ipython",
    "version": 3
   },
   "file_extension": ".py",
   "mimetype": "text/x-python",
   "name": "python",
   "nbconvert_exporter": "python",
   "pygments_lexer": "ipython3",
   "version": "3.11.5"
  }
 },
 "nbformat": 4,
 "nbformat_minor": 5
}
