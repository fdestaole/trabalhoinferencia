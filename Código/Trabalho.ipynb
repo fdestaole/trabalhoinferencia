{
 "cells": [
  {
   "cell_type": "markdown",
   "id": "83200afc",
   "metadata": {},
   "source": [
    "# <font color='blue'> Teste de Hipótese para a média com variância conhecida\n"
   ]
  },
  {
   "cell_type": "markdown",
   "id": "f59ef9e3",
   "metadata": {},
   "source": [
    "## Alunos:\n",
    "###              João Pedro Farjoun Silva, 13731319\n",
    "###              Felipe Destaole , 13686768\n",
    "----\n"
   ]
  },
  {
   "cell_type": "markdown",
   "id": "288005e3",
   "metadata": {},
   "source": [
    "### Iremos fazer nesse trabalho um teste de hipótese referente à seguinte situação hipotética:\n",
    "\n",
    "### <font color='red'> Introdução\n",
    "\n",
    "### Na movimentada cidade de Techville, a empresa de telecomunicações ConnectCo operava um dos maiores call centers da região. A eficiência do atendimento ao cliente sempre foi um dos principais focos da empresa, pois sabiam que um bom serviço de atendimento era crucial para manter a satisfação e a lealdade dos clientes.\n",
    "\n",
    "### <font color='red'> O Desafio \n",
    "### Em um dia como outro qualquer, Carla, a gerente do call center, recebeu um relatório preocupante. A média de tempo de atendimento ao cliente estava aumentando, chegando a 5,5 minutos por chamada, enquanto a meta estabelecida era de 5 minutos. Sabendo que a variância do tempo de atendimento era de 4 minutos, Carla decidiu que era hora de investigar mais a fundo e tomar medidas corretivas.\n",
    "\n",
    "### <font color='red'> A Hipótese\n",
    "### Carla convocou uma reunião com sua equipe de analistas de dados. Eles decidiram testar a hipótese de que o tempo médio de atendimento do mês seguinte seria menor que o anterior. A equipe formulou as seguintes hipóteses:"
   ]
  },
  {
   "cell_type": "markdown",
   "id": "64a16393",
   "metadata": {},
   "source": [
    "$X_i \\sim N(\\mu , \\sigma^2)$ com $\\sigma^2$ conhecido = 2^2\n",
    "\n",
    "$X_1, \\ldots, X_n$ amostra aleatória\n",
    "\n",
    "$H_0: \\mu \\ge 5.5 $ \n",
    "\n",
    "Contra\n",
    "\n",
    "$H_1: \\mu < 5.5$\n",
    "\n",
    "$RC = \\{\\bar{x} \\in \\mathbb{R}; \\bar{x}< x_c\\}$"
   ]
  },
  {
   "cell_type": "code",
   "execution_count": 2,
   "id": "20494fc4",
   "metadata": {},
   "outputs": [],
   "source": [
    "from scipy.stats import norm\n",
    "import matplotlib.pyplot as plt\n",
    "import numpy as np\n",
    "import pandas as pd"
   ]
  },
  {
   "cell_type": "code",
   "execution_count": 7,
   "id": "88f18829",
   "metadata": {},
   "outputs": [
    {
     "data": {
      "text/html": [
       "<div>\n",
       "<style scoped>\n",
       "    .dataframe tbody tr th:only-of-type {\n",
       "        vertical-align: middle;\n",
       "    }\n",
       "\n",
       "    .dataframe tbody tr th {\n",
       "        vertical-align: top;\n",
       "    }\n",
       "\n",
       "    .dataframe thead th {\n",
       "        text-align: right;\n",
       "    }\n",
       "</style>\n",
       "<table border=\"1\" class=\"dataframe\">\n",
       "  <thead>\n",
       "    <tr style=\"text-align: right;\">\n",
       "      <th></th>\n",
       "      <th>Unnamed: 0</th>\n",
       "      <th>Tempo de demora</th>\n",
       "    </tr>\n",
       "  </thead>\n",
       "  <tbody>\n",
       "    <tr>\n",
       "      <th>0</th>\n",
       "      <td>Cliente 1</td>\n",
       "      <td>4.231818</td>\n",
       "    </tr>\n",
       "    <tr>\n",
       "      <th>1</th>\n",
       "      <td>Cliente 2</td>\n",
       "      <td>2.394676</td>\n",
       "    </tr>\n",
       "    <tr>\n",
       "      <th>2</th>\n",
       "      <td>Cliente 3</td>\n",
       "      <td>6.298389</td>\n",
       "    </tr>\n",
       "    <tr>\n",
       "      <th>3</th>\n",
       "      <td>Cliente 4</td>\n",
       "      <td>10.577544</td>\n",
       "    </tr>\n",
       "    <tr>\n",
       "      <th>4</th>\n",
       "      <td>Cliente 5</td>\n",
       "      <td>5.882483</td>\n",
       "    </tr>\n",
       "    <tr>\n",
       "      <th>...</th>\n",
       "      <td>...</td>\n",
       "      <td>...</td>\n",
       "    </tr>\n",
       "    <tr>\n",
       "      <th>195</th>\n",
       "      <td>Cliente 196</td>\n",
       "      <td>6.780669</td>\n",
       "    </tr>\n",
       "    <tr>\n",
       "      <th>196</th>\n",
       "      <td>Cliente 197</td>\n",
       "      <td>7.519868</td>\n",
       "    </tr>\n",
       "    <tr>\n",
       "      <th>197</th>\n",
       "      <td>Cliente 198</td>\n",
       "      <td>5.869833</td>\n",
       "    </tr>\n",
       "    <tr>\n",
       "      <th>198</th>\n",
       "      <td>Cliente 199</td>\n",
       "      <td>6.268618</td>\n",
       "    </tr>\n",
       "    <tr>\n",
       "      <th>199</th>\n",
       "      <td>Cliente 200</td>\n",
       "      <td>7.530271</td>\n",
       "    </tr>\n",
       "  </tbody>\n",
       "</table>\n",
       "<p>200 rows × 2 columns</p>\n",
       "</div>"
      ],
      "text/plain": [
       "      Unnamed: 0  Tempo de demora\n",
       "0      Cliente 1         4.231818\n",
       "1      Cliente 2         2.394676\n",
       "2      Cliente 3         6.298389\n",
       "3      Cliente 4        10.577544\n",
       "4      Cliente 5         5.882483\n",
       "..           ...              ...\n",
       "195  Cliente 196         6.780669\n",
       "196  Cliente 197         7.519868\n",
       "197  Cliente 198         5.869833\n",
       "198  Cliente 199         6.268618\n",
       "199  Cliente 200         7.530271\n",
       "\n",
       "[200 rows x 2 columns]"
      ]
     },
     "execution_count": 7,
     "metadata": {},
     "output_type": "execute_result"
    }
   ],
   "source": [
    "df1 = pd.read_csv('dados_teste.csv')\n",
    "df1"
   ]
  },
  {
   "cell_type": "code",
   "execution_count": null,
   "id": "be34e849",
   "metadata": {},
   "outputs": [],
   "source": [
    "if xbarra < xc: print ('Rejeito H0')\n",
    "else: print('Não rejeito H0')"
   ]
  }
 ],
 "metadata": {
  "kernelspec": {
   "display_name": "Python 3 (ipykernel)",
   "language": "python",
   "name": "python3"
  },
  "language_info": {
   "codemirror_mode": {
    "name": "ipython",
    "version": 3
   },
   "file_extension": ".py",
   "mimetype": "text/x-python",
   "name": "python",
   "nbconvert_exporter": "python",
   "pygments_lexer": "ipython3",
   "version": "3.11.5"
  }
 },
 "nbformat": 4,
 "nbformat_minor": 5
}
